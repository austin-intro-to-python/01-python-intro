{
 "cells": [
  {
   "cell_type": "markdown",
   "id": "checked-relative",
   "metadata": {
    "id": "checked-relative"
   },
   "source": [
    "## Generate HTML images"
   ]
  },
  {
   "cell_type": "code",
   "execution_count": 1,
   "id": "raised-reality",
   "metadata": {
    "executionInfo": {
     "elapsed": 1284,
     "status": "ok",
     "timestamp": 1636594239978,
     "user": {
      "displayName": "Austin Lasseter",
      "photoUrl": "https://lh3.googleusercontent.com/a/default-user=s64",
      "userId": "15508614330588139795"
     },
     "user_tz": 300
    },
    "id": "raised-reality"
   },
   "outputs": [],
   "source": [
    "import plotly.graph_objs as go"
   ]
  },
  {
   "cell_type": "markdown",
   "id": "7sLSl2fDkzCo",
   "metadata": {
    "id": "7sLSl2fDkzCo"
   },
   "source": [
    "### Make a figure"
   ]
  },
  {
   "cell_type": "code",
   "execution_count": 2,
   "id": "A1N0Ad9IkYAw",
   "metadata": {
    "executionInfo": {
     "elapsed": 8,
     "status": "ok",
     "timestamp": 1636594239979,
     "user": {
      "displayName": "Austin Lasseter",
      "photoUrl": "https://lh3.googleusercontent.com/a/default-user=s64",
      "userId": "15508614330588139795"
     },
     "user_tz": 300
    },
    "id": "A1N0Ad9IkYAw"
   },
   "outputs": [],
   "source": [
    "### Create some simple data\n",
    "mylabels = ['Breakfast','Lunch','Dinner','Snacks']\n",
    "myvalues = [10,11,2,6]"
   ]
  },
  {
   "cell_type": "code",
   "execution_count": 3,
   "id": "OGPpwBReksN_",
   "metadata": {
    "executionInfo": {
     "elapsed": 1043,
     "status": "ok",
     "timestamp": 1636594241016,
     "user": {
      "displayName": "Austin Lasseter",
      "photoUrl": "https://lh3.googleusercontent.com/a/default-user=s64",
      "userId": "15508614330588139795"
     },
     "user_tz": 300
    },
    "id": "OGPpwBReksN_"
   },
   "outputs": [],
   "source": [
    "# Combine those into a bar chart\n",
    "mydata = go.Bar(x=mylabels,  y=myvalues)\n",
    "fig = go.Figure([mydata])"
   ]
  },
  {
   "cell_type": "code",
   "execution_count": 4,
   "id": "DutV5Fglm1FP",
   "metadata": {
    "executionInfo": {
     "elapsed": 7,
     "status": "ok",
     "timestamp": 1636594241018,
     "user": {
      "displayName": "Austin Lasseter",
      "photoUrl": "https://lh3.googleusercontent.com/a/default-user=s64",
      "userId": "15508614330588139795"
     },
     "user_tz": 300
    },
    "id": "DutV5Fglm1FP"
   },
   "outputs": [],
   "source": [
    "# save the figure as html\n",
    "fig.write_html(\"scatterplot.html\")"
   ]
  },
  {
   "cell_type": "code",
   "execution_count": 5,
   "id": "5qikpZ-7jgKY",
   "metadata": {
    "executionInfo": {
     "elapsed": 6,
     "status": "ok",
     "timestamp": 1636594241018,
     "user": {
      "displayName": "Austin Lasseter",
      "photoUrl": "https://lh3.googleusercontent.com/a/default-user=s64",
      "userId": "15508614330588139795"
     },
     "user_tz": 300
    },
    "id": "5qikpZ-7jgKY"
   },
   "outputs": [],
   "source": [
    "########### Define your variables ######\n",
    "mylabels = ['Chocolate Frosted', 'French Cruller', 'Boston Creme']\n",
    "myvalues = [45,25,7]\n",
    "color1 = 'e11383'\n",
    "color2 = 'f5821f'\n",
    "color3 = '683817'"
   ]
  },
  {
   "cell_type": "code",
   "execution_count": 10,
   "id": "decimal-relation",
   "metadata": {
    "executionInfo": {
     "elapsed": 292,
     "status": "ok",
     "timestamp": 1636594253389,
     "user": {
      "displayName": "Austin Lasseter",
      "photoUrl": "https://lh3.googleusercontent.com/a/default-user=s64",
      "userId": "15508614330588139795"
     },
     "user_tz": 300
    },
    "id": "decimal-relation"
   },
   "outputs": [],
   "source": [
    "# save the figure as html\n",
    "fig.write_html(\"chart.html\")"
   ]
  }
 ],
 "metadata": {
  "colab": {
   "name": "01. Notebook 2: generate-html.ipynb",
   "provenance": []
  },
  "kernelspec": {
   "display_name": "Python 3",
   "language": "python",
   "name": "python3"
  },
  "language_info": {
   "codemirror_mode": {
    "name": "ipython",
    "version": 3
   },
   "file_extension": ".py",
   "mimetype": "text/x-python",
   "name": "python",
   "nbconvert_exporter": "python",
   "pygments_lexer": "ipython3",
   "version": "3.8.2"
  }
 },
 "nbformat": 4,
 "nbformat_minor": 5
}
